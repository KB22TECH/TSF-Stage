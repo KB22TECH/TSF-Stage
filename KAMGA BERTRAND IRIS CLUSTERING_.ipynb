{
 "cells": [
  {
   "cell_type": "markdown",
   "metadata": {},
   "source": [
    "# UNSUPERVISED LEARNING  IRIS CLUSTERING"
   ]
  },
  {
   "cell_type": "markdown",
   "metadata": {},
   "source": [
    "## Packages importation"
   ]
  },
  {
   "cell_type": "code",
   "execution_count": 1,
   "metadata": {},
   "outputs": [
    {
     "data": {
      "text/html": [
       "<div>\n",
       "<style scoped>\n",
       "    .dataframe tbody tr th:only-of-type {\n",
       "        vertical-align: middle;\n",
       "    }\n",
       "\n",
       "    .dataframe tbody tr th {\n",
       "        vertical-align: top;\n",
       "    }\n",
       "\n",
       "    .dataframe thead th {\n",
       "        text-align: right;\n",
       "    }\n",
       "</style>\n",
       "<table border=\"1\" class=\"dataframe\">\n",
       "  <thead>\n",
       "    <tr style=\"text-align: right;\">\n",
       "      <th></th>\n",
       "      <th>Id</th>\n",
       "      <th>SepalLengthCm</th>\n",
       "      <th>SepalWidthCm</th>\n",
       "      <th>PetalLengthCm</th>\n",
       "      <th>PetalWidthCm</th>\n",
       "      <th>Species</th>\n",
       "    </tr>\n",
       "  </thead>\n",
       "  <tbody>\n",
       "    <tr>\n",
       "      <th>0</th>\n",
       "      <td>1</td>\n",
       "      <td>5.1</td>\n",
       "      <td>3.5</td>\n",
       "      <td>1.4</td>\n",
       "      <td>0.2</td>\n",
       "      <td>Iris-setosa</td>\n",
       "    </tr>\n",
       "    <tr>\n",
       "      <th>1</th>\n",
       "      <td>2</td>\n",
       "      <td>4.9</td>\n",
       "      <td>3.0</td>\n",
       "      <td>1.4</td>\n",
       "      <td>0.2</td>\n",
       "      <td>Iris-setosa</td>\n",
       "    </tr>\n",
       "    <tr>\n",
       "      <th>2</th>\n",
       "      <td>3</td>\n",
       "      <td>4.7</td>\n",
       "      <td>3.2</td>\n",
       "      <td>1.3</td>\n",
       "      <td>0.2</td>\n",
       "      <td>Iris-setosa</td>\n",
       "    </tr>\n",
       "    <tr>\n",
       "      <th>3</th>\n",
       "      <td>4</td>\n",
       "      <td>4.6</td>\n",
       "      <td>3.1</td>\n",
       "      <td>1.5</td>\n",
       "      <td>0.2</td>\n",
       "      <td>Iris-setosa</td>\n",
       "    </tr>\n",
       "    <tr>\n",
       "      <th>4</th>\n",
       "      <td>5</td>\n",
       "      <td>5.0</td>\n",
       "      <td>3.6</td>\n",
       "      <td>1.4</td>\n",
       "      <td>0.2</td>\n",
       "      <td>Iris-setosa</td>\n",
       "    </tr>\n",
       "  </tbody>\n",
       "</table>\n",
       "</div>"
      ],
      "text/plain": [
       "   Id  SepalLengthCm  SepalWidthCm  PetalLengthCm  PetalWidthCm      Species\n",
       "0   1            5.1           3.5            1.4           0.2  Iris-setosa\n",
       "1   2            4.9           3.0            1.4           0.2  Iris-setosa\n",
       "2   3            4.7           3.2            1.3           0.2  Iris-setosa\n",
       "3   4            4.6           3.1            1.5           0.2  Iris-setosa\n",
       "4   5            5.0           3.6            1.4           0.2  Iris-setosa"
      ]
     },
     "execution_count": 1,
     "metadata": {},
     "output_type": "execute_result"
    }
   ],
   "source": [
    "import numpy as np\n",
    "import matplotlib.pyplot as plt\n",
    "import pandas as pd\n",
    "from sklearn.cluster import KMeans\n",
    "#Importation du Dataset des fleurs d'Iris parmis plusieurs datasets\n",
    "\n",
    "iris = pd.read_csv('IrisClustering.csv')\n",
    "iris.head()"
   ]
  },
  {
   "cell_type": "markdown",
   "metadata": {},
   "source": [
    "## Statistics Analyse + Ploting Chart"
   ]
  },
  {
   "cell_type": "code",
   "execution_count": 2,
   "metadata": {},
   "outputs": [
    {
     "data": {
      "text/html": [
       "<div>\n",
       "<style scoped>\n",
       "    .dataframe tbody tr th:only-of-type {\n",
       "        vertical-align: middle;\n",
       "    }\n",
       "\n",
       "    .dataframe tbody tr th {\n",
       "        vertical-align: top;\n",
       "    }\n",
       "\n",
       "    .dataframe thead th {\n",
       "        text-align: right;\n",
       "    }\n",
       "</style>\n",
       "<table border=\"1\" class=\"dataframe\">\n",
       "  <thead>\n",
       "    <tr style=\"text-align: right;\">\n",
       "      <th></th>\n",
       "      <th>Id</th>\n",
       "      <th>SepalLengthCm</th>\n",
       "      <th>SepalWidthCm</th>\n",
       "      <th>PetalLengthCm</th>\n",
       "      <th>PetalWidthCm</th>\n",
       "    </tr>\n",
       "  </thead>\n",
       "  <tbody>\n",
       "    <tr>\n",
       "      <th>count</th>\n",
       "      <td>150.000000</td>\n",
       "      <td>150.000000</td>\n",
       "      <td>150.000000</td>\n",
       "      <td>150.000000</td>\n",
       "      <td>150.000000</td>\n",
       "    </tr>\n",
       "    <tr>\n",
       "      <th>mean</th>\n",
       "      <td>75.500000</td>\n",
       "      <td>5.843333</td>\n",
       "      <td>3.054000</td>\n",
       "      <td>3.758667</td>\n",
       "      <td>1.198667</td>\n",
       "    </tr>\n",
       "    <tr>\n",
       "      <th>std</th>\n",
       "      <td>43.445368</td>\n",
       "      <td>0.828066</td>\n",
       "      <td>0.433594</td>\n",
       "      <td>1.764420</td>\n",
       "      <td>0.763161</td>\n",
       "    </tr>\n",
       "    <tr>\n",
       "      <th>min</th>\n",
       "      <td>1.000000</td>\n",
       "      <td>4.300000</td>\n",
       "      <td>2.000000</td>\n",
       "      <td>1.000000</td>\n",
       "      <td>0.100000</td>\n",
       "    </tr>\n",
       "    <tr>\n",
       "      <th>25%</th>\n",
       "      <td>38.250000</td>\n",
       "      <td>5.100000</td>\n",
       "      <td>2.800000</td>\n",
       "      <td>1.600000</td>\n",
       "      <td>0.300000</td>\n",
       "    </tr>\n",
       "    <tr>\n",
       "      <th>50%</th>\n",
       "      <td>75.500000</td>\n",
       "      <td>5.800000</td>\n",
       "      <td>3.000000</td>\n",
       "      <td>4.350000</td>\n",
       "      <td>1.300000</td>\n",
       "    </tr>\n",
       "    <tr>\n",
       "      <th>75%</th>\n",
       "      <td>112.750000</td>\n",
       "      <td>6.400000</td>\n",
       "      <td>3.300000</td>\n",
       "      <td>5.100000</td>\n",
       "      <td>1.800000</td>\n",
       "    </tr>\n",
       "    <tr>\n",
       "      <th>max</th>\n",
       "      <td>150.000000</td>\n",
       "      <td>7.900000</td>\n",
       "      <td>4.400000</td>\n",
       "      <td>6.900000</td>\n",
       "      <td>2.500000</td>\n",
       "    </tr>\n",
       "  </tbody>\n",
       "</table>\n",
       "</div>"
      ],
      "text/plain": [
       "               Id  SepalLengthCm  SepalWidthCm  PetalLengthCm  PetalWidthCm\n",
       "count  150.000000     150.000000    150.000000     150.000000    150.000000\n",
       "mean    75.500000       5.843333      3.054000       3.758667      1.198667\n",
       "std     43.445368       0.828066      0.433594       1.764420      0.763161\n",
       "min      1.000000       4.300000      2.000000       1.000000      0.100000\n",
       "25%     38.250000       5.100000      2.800000       1.600000      0.300000\n",
       "50%     75.500000       5.800000      3.000000       4.350000      1.300000\n",
       "75%    112.750000       6.400000      3.300000       5.100000      1.800000\n",
       "max    150.000000       7.900000      4.400000       6.900000      2.500000"
      ]
     },
     "execution_count": 2,
     "metadata": {},
     "output_type": "execute_result"
    }
   ],
   "source": [
    "iris.describe()"
   ]
  },
  {
   "cell_type": "code",
   "execution_count": 3,
   "metadata": {},
   "outputs": [
    {
     "data": {
      "text/plain": [
       "Id                 int64\n",
       "SepalLengthCm    float64\n",
       "SepalWidthCm     float64\n",
       "PetalLengthCm    float64\n",
       "PetalWidthCm     float64\n",
       "Species           object\n",
       "dtype: object"
      ]
     },
     "execution_count": 3,
     "metadata": {},
     "output_type": "execute_result"
    }
   ],
   "source": [
    "iris.dtypes"
   ]
  },
  {
   "cell_type": "code",
   "execution_count": 4,
   "metadata": {},
   "outputs": [
    {
     "data": {
      "text/plain": [
       "<matplotlib.axes._subplots.AxesSubplot at 0x141f3bd1808>"
      ]
     },
     "execution_count": 4,
     "metadata": {},
     "output_type": "execute_result"
    },
    {
     "data": {
      "image/png": "[encoded data removed]",
      "text/plain": [
       "<Figure size 432x288 with 1 Axes>"
      ]
     },
     "metadata": {},
     "output_type": "display_data"
    }
   ],
   "source": [
    "iris['Species'].value_counts().plot.pie()\n",
    "\n",
    "#We will suppose 3 particular species by Visualizing ['','','']"
   ]
  },
  {
   "cell_type": "code",
   "execution_count": 7,
   "metadata": {},
   "outputs": [],
   "source": [
    "X = iris[['SepalLengthCm','SepalWidthCm','PetalLengthCm','PetalWidthCm']]"
   ]
  },
  {
   "cell_type": "markdown",
   "metadata": {},
   "source": [
    "# A/K-Means Clustering"
   ]
  },
  {
   "cell_type": "raw",
   "metadata": {},
   "source": [
    "-Le principe est de laisser la machine apprendre à classer les données selon leur Ressamblance\n",
    "-Pour celà l'un des algoritmes les plus populaires est le K-Means Clustering\n",
    "*K-Means Clustering est un algorithme itératif qui fonctionne en 2 étapes:\n",
    "    1-Affectation des points au centre le plus proche(Centroid)\n",
    "    2-Déplacement du Centre à la moyenne du Cluster(On calcule la moyenne de chaque cluster et on y déplace le centroid).\n",
    "    \n",
    "*Fonctionnement:\n",
    "    -On place K centroids au hasard dans le dataset.\n",
    "    -Ce sont les barycentres des Futurs Clusters\n",
    "    -Chaque point du Dataset est affecté au Cluster du centroid le plus proche.\n",
    "    -Le centroid est déplacé au milieu du Cluster.(là ou se situe la moyenne des points) donc chaque centroid au Milieu de son cluster(La ou se situe la moyenne des points) et on va continuer ainsi jusquà ce que les centroids converge vers une position d'équilibre."
   ]
  },
  {
   "cell_type": "raw",
   "metadata": {},
   "source": [
    "-Selon la position initiale des centroids,K-Mean peut donner de mauvais Clusters/Il est possible que ces derniers converge vers de mauvaises positions.\n",
    "\n",
    "-Il existe donc une solution pour éviter celà:\n",
    "*Executer l'algorithme de K-Means Clustering plusieurs fois d'affiler en modifiant à chaque fois la position initiale de nos Centroids. Pour chaque résultat donner on mesure la distance entre les points d'un cluster et le centre de ce dernier et on retient la solution pour laquelle la somme de ces distances est la plus petite\n",
    "\n",
    "*La solution retenue est celle qui minimise la somme des distances entre les points(X) d'un cluster et son centre.\n",
    "\n",
    "*En résumé K-Means cherche la position des centres qui minimise la distance entre les points d'un cluster(xi) et le centre (µj) de ce dernier:\n",
    "\n",
    "* K-Means Clustering cherche donc à minimiser l'algorithme Inertia  algorithme qui est la distance entre les points d'un cluster et le centre de ce dernier./Cela correspond à la variance des Clusters.\n"
   ]
  },
  {
   "cell_type": "markdown",
   "metadata": {},
   "source": [
    "## Clustering Parameters,Methods,Attributs"
   ]
  },
  {
   "cell_type": "raw",
   "metadata": {},
   "source": [
    "K-Means Clustering:\n",
    "\n",
    "Hyper-Paramètres:\n",
    "*n_clusters: nombre K de clusters\n",
    "*n_init: nombre d'exécutions(10)\n",
    "*max_iter: nombre d'itérations(300)\n",
    "*Init: type d'initialisation(K-Means++)\n",
    "\n",
    "Méthodes:\n",
    "Fit(X):exécute l'algorithme K-Mean\n",
    "Predict(X):Centroid le plus proche de X\n",
    "Score(X):Calcul de l'Inertia(Négatif)\n",
    "\n",
    "Attributs:\n",
    "Cluster_centers_:Position des Centroids\n",
    "Labels_:équivalent de Predict(Xtrain)\n",
    "Inertia_:Calcul de l'Inertia(Positif)"
   ]
  },
  {
   "cell_type": "code",
   "execution_count": 8,
   "metadata": {},
   "outputs": [],
   "source": [
    "model = KMeans(algorithm='auto', copy_x=True, init='k-means++', max_iter=300,\n",
    "       n_clusters=5, n_init=10, n_jobs=None, precompute_distances='auto',\n",
    "       random_state=None, tol=0.0001, verbose=0 ) \n",
    "#Nombre de cluster 5\n",
    "#Nombre d'execution de l'algorithme <<n_init>> fixé à 10 de base pas besoin d'y touché\n",
    "#Nombre d'itteration <<max_iter>> de base fixé à 200 ou 300 pas besoin d'y touché\n",
    "#Strategie d'initialisaton que nous allons utiliser. \n",
    "\n",
    "#Par défaut c'est la méthode K-Means++ consiste à placer les centroids sur des points du dataset éloignés les uns\n",
    "#des autres facilitant la convergence(accélerer la convergence de nos centroids vers les points d'équilibre).\n",
    "#On peut uniquement utiliser dans notre KMeans le nombre de cluster uniquement les autres hyper paramètres sont \n",
    "#définis par défaut"
   ]
  },
  {
   "cell_type": "markdown",
   "metadata": {},
   "source": [
    "## Preprocessing"
   ]
  },
  {
   "cell_type": "code",
   "execution_count": 10,
   "metadata": {},
   "outputs": [],
   "source": [
    "#Toutes les valeurs sont presentes donc nous n'avons pa besoin de faire du impute preprocessing"
   ]
  },
  {
   "cell_type": "code",
   "execution_count": 11,
   "metadata": {},
   "outputs": [
    {
     "data": {
      "text/plain": [
       "KMeans(algorithm='auto', copy_x=True, init='k-means++', max_iter=300,\n",
       "       n_clusters=5, n_init=10, n_jobs=None, precompute_distances='auto',\n",
       "       random_state=None, tol=0.0001, verbose=0)"
      ]
     },
     "execution_count": 11,
     "metadata": {},
     "output_type": "execute_result"
    }
   ],
   "source": [
    "model.fit(X)\n",
    "#On utilise les memes méthodes d'apprentissage habituelles que lors de l'apprentissage supervisé"
   ]
  },
  {
   "cell_type": "code",
   "execution_count": 12,
   "metadata": {},
   "outputs": [
    {
     "data": {
      "text/plain": [
       "array([1, 1, 1, 1, 1, 1, 1, 1, 1, 1, 1, 1, 1, 1, 1, 1, 1, 1, 1, 1, 1, 1,\n",
       "       1, 1, 1, 1, 1, 1, 1, 1, 1, 1, 1, 1, 1, 1, 1, 1, 1, 1, 1, 1, 1, 1,\n",
       "       1, 1, 1, 1, 1, 1, 4, 4, 4, 2, 4, 4, 4, 2, 4, 2, 2, 4, 2, 4, 2, 4,\n",
       "       4, 2, 4, 2, 4, 2, 4, 4, 4, 4, 4, 4, 4, 2, 2, 2, 2, 4, 2, 4, 4, 4,\n",
       "       2, 2, 2, 4, 2, 2, 2, 2, 2, 4, 2, 2, 0, 4, 3, 0, 0, 3, 2, 3, 0, 3,\n",
       "       0, 0, 0, 4, 0, 0, 0, 3, 3, 4, 0, 4, 3, 4, 0, 3, 4, 4, 0, 3, 3, 3,\n",
       "       0, 4, 4, 3, 0, 0, 4, 0, 0, 0, 4, 0, 0, 0, 4, 0, 0, 4])"
      ]
     },
     "execution_count": 12,
     "metadata": {},
     "output_type": "execute_result"
    }
   ],
   "source": [
    "model.predict(X) "
   ]
  },
  {
   "cell_type": "code",
   "execution_count": 13,
   "metadata": {},
   "outputs": [
    {
     "data": {
      "text/plain": [
       "46.53558205128205"
      ]
     },
     "execution_count": 13,
     "metadata": {},
     "output_type": "execute_result"
    }
   ],
   "source": [
    "model.inertia_"
   ]
  },
  {
   "cell_type": "code",
   "execution_count": 14,
   "metadata": {},
   "outputs": [
    {
     "data": {
      "text/plain": [
       "<matplotlib.collections.PathCollection at 0x141f4364e48>"
      ]
     },
     "execution_count": 14,
     "metadata": {},
     "output_type": "execute_result"
    },
    {
     "data": {
      "image/png": "[encoded data removed]",
      "text/plain": [
       "<Figure size 432x288 with 1 Axes>"
      ]
     },
     "metadata": {
      "needs_background": "light"
     },
     "output_type": "display_data"
    }
   ],
   "source": [
    "plt.scatter(X.iloc[:,0],X.iloc[:,2], c=model.predict(X))"
   ]
  },
  {
   "cell_type": "code",
   "execution_count": 15,
   "metadata": {},
   "outputs": [
    {
     "data": {
      "text/plain": [
       "array([[6.52916667, 3.05833333, 5.50833333, 2.1625    ],\n",
       "       [5.006     , 3.418     , 1.464     , 0.244     ],\n",
       "       [5.508     , 2.6       , 3.908     , 1.204     ],\n",
       "       [7.475     , 3.125     , 6.3       , 2.05      ],\n",
       "       [6.20769231, 2.85384615, 4.74615385, 1.56410256]])"
      ]
     },
     "execution_count": 15,
     "metadata": {},
     "output_type": "execute_result"
    },
    {
     "data": {
      "image/png": "[encoded data removed]",
      "text/plain": [
       "<Figure size 432x288 with 1 Axes>"
      ]
     },
     "metadata": {
      "needs_background": "light"
     },
     "output_type": "display_data"
    }
   ],
   "source": [
    "#On peut afficher la position et coordonnees des centroids.\n",
    "plt.scatter(X['SepalLengthCm'],X['SepalWidthCm'], c=model.predict(X))\n",
    "model.cluster_centers_"
   ]
  },
  {
   "cell_type": "raw",
   "metadata": {},
   "source": [
    "-On obtient donc un #Affichons tous nos centroides pour l'axe 0 e pour l'axe 3.\n",
    "model = KMeans(n_clusters = 5)\n",
    "model.fit(X)\n",
    "model.predict(X)  \n",
    "plt.scatter(X[:,0],X[:,3], c=model.predict(X)) #Représentation selon la variable Position 0 et Position 3.\n",
    "plt.scatter(model.cluster_centers_[:,0],model.cluster_centers_[:,3], c='r')tableau de 3 lignes et 4 colonnes (car on a 5 centroides n_cluster=5 et 4 variables)\n",
    "-On a donc les coordonnées \n",
    "*Du premier Centroide;\n",
    "*Les cordonnées du Deuxième centroide;\n",
    "*Les coordonnées du troisième centroide;\n",
    "*Les coordonnées du Quatrième centroide;"
   ]
  },
  {
   "cell_type": "code",
   "execution_count": 17,
   "metadata": {},
   "outputs": [
    {
     "data": {
      "text/plain": [
       "46.56163015873016"
      ]
     },
     "execution_count": 17,
     "metadata": {},
     "output_type": "execute_result"
    },
    {
     "data": {
      "image/png": "[encoded data removed]",
      "text/plain": [
       "<Figure size 432x288 with 1 Axes>"
      ]
     },
     "metadata": {
      "needs_background": "light"
     },
     "output_type": "display_data"
    }
   ],
   "source": [
    "#Calcul de l'inertia: Somme des distances entre les points d'un cluster et le centroid.\n",
    "model = KMeans(n_clusters = 5)\n",
    "model.fit(X)\n",
    "model.predict(X)  \n",
    "plt.scatter(X.iloc[:,0],X.iloc[:,3], c=model.predict(X)) #Représentation selon la variable Position 0 et Position 3.\n",
    "plt.scatter(model.cluster_centers_[:,0],model.cluster_centers_[:,3], c='r')\n",
    "model.inertia_ "
   ]
  },
  {
   "cell_type": "markdown",
   "metadata": {},
   "source": [
    "## Recherche de meilleures Parametres"
   ]
  },
  {
   "cell_type": "code",
   "execution_count": 18,
   "metadata": {},
   "outputs": [
    {
     "data": {
      "text/plain": [
       "<bound method BaseEstimator.get_params of KMeans(algorithm='auto', copy_x=True, init='k-means++', max_iter=300,\n",
       "       n_clusters=5, n_init=10, n_jobs=None, precompute_distances='auto',\n",
       "       random_state=None, tol=0.0001, verbose=0)>"
      ]
     },
     "execution_count": 18,
     "metadata": {},
     "output_type": "execute_result"
    }
   ],
   "source": [
    "#We search all Modifiables Parameters of our Model\n",
    "model.get_params"
   ]
  },
  {
   "cell_type": "raw",
   "metadata": {},
   "source": [
    "-On a donc la position de nos centroides et c'est grace à cela que nous allons pouvoir faire de future prédiction.\n",
    "\n",
    "-Si jamais on a un nouvel échantillon qui arrivait dans nos données, pour savoir à quel cluster il appartient on va tout simplement calculer sa distance avec mes quatres centroides\n",
    "\n",
    "-Tout en parlant de calcul de Distance voyons comment calculer l'inertia c'est à dire la fonction cout de notre modèle."
   ]
  },
  {
   "cell_type": "raw",
   "metadata": {},
   "source": [
    "-On peut utiliser K-Means Clustering c'est l'utiliser en tant que Transformer dans une pipeline.\n",
    "-Il ya aussi une méthode fit Transform transform fit que lorsque vous l'utilisez cela retourne la distance entre chaque point d'un Cluster et son Centroid."
   ]
  },
  {
   "cell_type": "raw",
   "metadata": {},
   "source": [
    "*Comment etre sure d'avoir choisir le bon nombre de cluster (centroides) pour notre Algorithme.\n",
    "*Dans l'exemple là haut il était facile de déviner en regardant notre dataset on voi 3 paquets différents et on en déduit qu'il faut 3 clusters.\n",
    "*Dans la pratique avec de nombreuses dimensions... difficile de voir un nombre de clusters à L'oeil...\n",
    "*Comment déterminer n_clusters?"
   ]
  },
  {
   "cell_type": "raw",
   "metadata": {},
   "source": [
    "-Il existe donc une technique appelé ELBOW METHOD:Détecter une Zone de Coude dans la Minimisation du Cout(Inertia_)\n",
    "-elle consite à tracer le cout de l'evolution de notre méthode en fonction du nombre de Clusters et e détecter dans ce graphique une zone de coude.Cette zone nous indique le nombre de cluster Optimale.\n",
    "-Le nombre de cluster optimale est le nombre qui nous permet de réduire au maximum le cout de notre modèle tout en conservant un nombre raisonable de clusters \n",
    "-Si le but est de minimiser la fonction cout alors il faut créer autant de cluster qu'on a de poids dans notre Dataset.\n",
    "-Faisons cela avec SKlearn"
   ]
  },
  {
   "cell_type": "code",
   "execution_count": 19,
   "metadata": {},
   "outputs": [],
   "source": [
    "inertia = []#Creation of a score List\n",
    "K_range = range(1,20)\n",
    "for k in K_range:\n",
    "    model = KMeans(n_clusters = k).fit(X) #entrainement du modèle sur les 20 clusters définit\n",
    "    inertia.append(model.inertia_)\n",
    "    "
   ]
  },
  {
   "cell_type": "code",
   "execution_count": 20,
   "metadata": {},
   "outputs": [
    {
     "data": {
      "text/plain": [
       "Text(0, 0.5, 'Cout du modele (Inertia)')"
      ]
     },
     "execution_count": 20,
     "metadata": {},
     "output_type": "execute_result"
    },
    {
     "data": {
      "image/png": "[encoded data removed]",
      "text/plain": [
       "<Figure size 432x288 with 1 Axes>"
      ]
     },
     "metadata": {
      "needs_background": "light"
     },
     "output_type": "display_data"
    }
   ],
   "source": [
    "#On va maintenant afficher les clusters en fonction de leur cout\n",
    "plt.plot(K_range, inertia)\n",
    "plt.xlabel('nombre de clusters')\n",
    "plt.ylabel('Cout du modele (Inertia)')"
   ]
  },
  {
   "cell_type": "code",
   "execution_count": 21,
   "metadata": {},
   "outputs": [
    {
     "data": {
      "text/plain": [
       "KMeans(algorithm='auto', copy_x=True, init='k-means++', max_iter=300,\n",
       "       n_clusters=3, n_init=10, n_jobs=None, precompute_distances='auto',\n",
       "       random_state=None, tol=0.0001, verbose=0)"
      ]
     },
     "execution_count": 21,
     "metadata": {},
     "output_type": "execute_result"
    }
   ],
   "source": [
    "model = KMeans(n_clusters = 3)\n",
    "model.fit(X)"
   ]
  },
  {
   "cell_type": "code",
   "execution_count": 22,
   "metadata": {},
   "outputs": [
    {
     "data": {
      "text/plain": [
       "78.94084142614602"
      ]
     },
     "execution_count": 22,
     "metadata": {},
     "output_type": "execute_result"
    }
   ],
   "source": [
    "model.inertia_"
   ]
  },
  {
   "cell_type": "markdown",
   "metadata": {},
   "source": [
    "## PREDICTION OF CLUSTERS FROM OUR MODEL"
   ]
  },
  {
   "cell_type": "code",
   "execution_count": 23,
   "metadata": {},
   "outputs": [
    {
     "data": {
      "text/plain": [
       "array([0, 0, 0, 0, 0, 0, 0, 0, 0, 0, 0, 0, 0, 0, 0, 0, 0, 0, 0, 0, 0, 0,\n",
       "       0, 0, 0, 0, 0, 0, 0, 0, 0, 0, 0, 0, 0, 0, 0, 0, 0, 0, 0, 0, 0, 0,\n",
       "       0, 0, 0, 0, 0, 0, 1, 1, 2, 1, 1, 1, 1, 1, 1, 1, 1, 1, 1, 1, 1, 1,\n",
       "       1, 1, 1, 1, 1, 1, 1, 1, 1, 1, 1, 2, 1, 1, 1, 1, 1, 1, 1, 1, 1, 1,\n",
       "       1, 1, 1, 1, 1, 1, 1, 1, 1, 1, 1, 1, 2, 1, 2, 2, 2, 2, 1, 2, 2, 2,\n",
       "       2, 2, 2, 1, 1, 2, 2, 2, 2, 1, 2, 1, 2, 1, 2, 2, 1, 1, 2, 2, 2, 2,\n",
       "       2, 1, 2, 2, 2, 2, 1, 2, 2, 2, 1, 2, 2, 2, 1, 2, 2, 1])"
      ]
     },
     "execution_count": 23,
     "metadata": {},
     "output_type": "execute_result"
    }
   ],
   "source": [
    "model.predict(X)"
   ]
  }
 ],
 "metadata": {
  "kernelspec": {
   "display_name": "Python 3",
   "language": "python",
   "name": "python3"
  },
  "language_info": {
   "codemirror_mode": {
    "name": "ipython",
    "version": 3
   },
   "file_extension": ".py",
   "mimetype": "text/x-python",
   "name": "python",
   "nbconvert_exporter": "python",
   "pygments_lexer": "ipython3",
   "version": "3.7.6"
  }
 },
 "nbformat": 4,
 "nbformat_minor": 4
}
